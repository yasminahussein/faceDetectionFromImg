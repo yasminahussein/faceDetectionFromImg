{
 "cells": [
  {
   "cell_type": "code",
   "execution_count": 1,
   "metadata": {
    "ExecuteTime": {
     "end_time": "2023-06-08T13:08:25.366640Z",
     "start_time": "2023-06-08T13:08:25.286809Z"
    }
   },
   "outputs": [],
   "source": [
    "import cv2                                          # use OpenCV version 2 in this program\n",
    "import sys                                          # this line helps to get the images from the computer's directory\n",
    "\n",
    "# Get user supplied values\n",
    "imagePath = 'images/1.jpg'                            #get the abba image \n",
    "cascPath = \"haarcascade_frontalface_default.xml\"    # use the OpenCV face detection tool\n",
    "\n",
    "# Create the haar cascade\n",
    "faceCascade = cv2.CascadeClassifier(cascPath)       # starts/initializes the cascade process which will eventually detect face"
   ]
  },
  {
   "cell_type": "code",
   "execution_count": 56,
   "metadata": {
    "ExecuteTime": {
     "end_time": "2023-06-08T13:26:12.670357Z",
     "start_time": "2023-06-08T13:26:12.637974Z"
    }
   },
   "outputs": [],
   "source": [
    "# Read the image\n",
    "image = cv2.imread(imagePath)                       #check the image and store in image variable"
   ]
  },
  {
   "cell_type": "code",
   "execution_count": 57,
   "metadata": {
    "ExecuteTime": {
     "end_time": "2023-06-08T13:26:12.911991Z",
     "start_time": "2023-06-08T13:26:12.895530Z"
    }
   },
   "outputs": [],
   "source": [
    "gray = cv2.cvtColor(image, cv2.COLOR_BGR2GRAY)      #convert the image into grayscale or gray image without color"
   ]
  },
  {
   "cell_type": "code",
   "execution_count": 59,
   "metadata": {
    "ExecuteTime": {
     "end_time": "2023-06-08T13:26:24.625434Z",
     "start_time": "2023-06-08T13:26:24.249387Z"
    }
   },
   "outputs": [
    {
     "name": "stdout",
     "output_type": "stream",
     "text": [
      "I have Found 61 faces!\n"
     ]
    }
   ],
   "source": [
    "\n",
    "\n",
    "# Detect faces in the image\n",
    "faces = faceCascade.detectMultiScale(               #detectMultiScale is the function to detect face in the image\n",
    "    gray,                                           # detect gray image\n",
    "    scaleFactor=1.05,                                # some faces are closer to the image than faces in the back. Scale factor checks those info\n",
    "    minNeighbors=1,                                 # The detection method uses a moving window to detect faces. minNeighbors defines how many\n",
    "                                                    # faces are detected near the current one before it decales the face found\n",
    "    minSize=(5,5)                                # gives the size of each window                                       \n",
    ")\n",
    "\n",
    "print(\"I have Found {0} faces!\".format(len(faces)))        # prints how many faces are found\n"
   ]
  },
  {
   "cell_type": "code",
   "execution_count": 60,
   "metadata": {
    "ExecuteTime": {
     "end_time": "2023-06-08T13:26:34.847806Z",
     "start_time": "2023-06-08T13:26:25.835063Z"
    }
   },
   "outputs": [
    {
     "data": {
      "text/plain": [
       "-1"
      ]
     },
     "execution_count": 60,
     "metadata": {},
     "output_type": "execute_result"
    }
   ],
   "source": [
    "# Draw a rectangle around the faces                 \n",
    "for (x, y, w, h) in faces:                                       #this fuction returns a list of rectangles where it found faces and \n",
    "    cv2.rectangle(image, (x, y), (x+w, y+h), (0, 255, 0), 2)     #keeps on looping where it found something\n",
    "\n",
    "cv2.imshow(\"Faces found\", image)                    #diaplay the image\n",
    "cv2.waitKey(0)                                      #wait for the user to enter a key"
   ]
  },
  {
   "cell_type": "code",
   "execution_count": null,
   "metadata": {},
   "outputs": [],
   "source": []
  }
 ],
 "metadata": {
  "kernelspec": {
   "display_name": "Python 3",
   "language": "python",
   "name": "python3"
  },
  "language_info": {
   "codemirror_mode": {
    "name": "ipython",
    "version": 3
   },
   "file_extension": ".py",
   "mimetype": "text/x-python",
   "name": "python",
   "nbconvert_exporter": "python",
   "pygments_lexer": "ipython3",
   "version": "3.8.5"
  },
  "toc": {
   "base_numbering": 1,
   "nav_menu": {},
   "number_sections": true,
   "sideBar": true,
   "skip_h1_title": false,
   "title_cell": "Table of Contents",
   "title_sidebar": "Contents",
   "toc_cell": false,
   "toc_position": {},
   "toc_section_display": true,
   "toc_window_display": false
  },
  "varInspector": {
   "cols": {
    "lenName": 16,
    "lenType": 16,
    "lenVar": 40
   },
   "kernels_config": {
    "python": {
     "delete_cmd_postfix": "",
     "delete_cmd_prefix": "del ",
     "library": "var_list.py",
     "varRefreshCmd": "print(var_dic_list())"
    },
    "r": {
     "delete_cmd_postfix": ") ",
     "delete_cmd_prefix": "rm(",
     "library": "var_list.r",
     "varRefreshCmd": "cat(var_dic_list()) "
    }
   },
   "types_to_exclude": [
    "module",
    "function",
    "builtin_function_or_method",
    "instance",
    "_Feature"
   ],
   "window_display": false
  }
 },
 "nbformat": 4,
 "nbformat_minor": 4
}
